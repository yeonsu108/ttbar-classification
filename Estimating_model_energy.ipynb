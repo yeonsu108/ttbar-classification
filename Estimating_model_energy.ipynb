{
 "cells": [
  {
   "cell_type": "code",
   "execution_count": 1,
   "id": "989c6c7d-1b2a-4dab-8947-c3a39d1b283b",
   "metadata": {},
   "outputs": [
    {
     "name": "stderr",
     "output_type": "stream",
     "text": [
      "2024-02-23 22:06:25.135239: I tensorflow/tsl/cuda/cudart_stub.cc:28] Could not find cuda drivers on your machine, GPU will not be used.\n",
      "2024-02-23 22:06:25.908102: I tensorflow/tsl/cuda/cudart_stub.cc:28] Could not find cuda drivers on your machine, GPU will not be used.\n",
      "2024-02-23 22:06:25.912416: I tensorflow/core/platform/cpu_feature_guard.cc:182] This TensorFlow binary is optimized to use available CPU instructions in performance-critical operations.\n",
      "To enable the following instructions: AVX2 FMA, in other operations, rebuild TensorFlow with the appropriate compiler flags.\n",
      "2024-02-23 22:06:28.530867: W tensorflow/compiler/tf2tensorrt/utils/py_utils.cc:38] TF-TRT Warning: Could not find TensorRT\n"
     ]
    }
   ],
   "source": [
    "import warnings\n",
    "\n",
    "import numpy as np\n",
    "import tensorflow as tf\n",
    "\n",
    "import keras_spiking\n",
    "\n",
    "warnings.simplefilter(\"ignore\")\n",
    "tf.get_logger().addFilter(lambda rec: \"Tracing is expensive\" not in rec.msg)"
   ]
  },
  {
   "cell_type": "code",
   "execution_count": 6,
   "id": "a04ba479-0daf-4c45-96fb-26574d2093fc",
   "metadata": {
    "scrolled": true
   },
   "outputs": [
    {
     "name": "stdout",
     "output_type": "stream",
     "text": [
      "Model: \"model_4\"\n",
      "_________________________________________________________________\n",
      " Layer (type)                Output Shape              Param #   \n",
      "=================================================================\n",
      " input_3 (InputLayer)        [(None, None, 28, 28, 1)  0         \n",
      "                             ]                                   \n",
      "                                                                 \n",
      " time_distributed_7 (TimeDis  (None, None, 22, 22, 2)  100       \n",
      " tributed)                                                       \n",
      "                                                                 \n",
      " spiking_activation_7 (Spiki  (None, None, 22, 22, 2)  0         \n",
      " ngActivation)                                                   \n",
      "                                                                 \n",
      " time_distributed_8 (TimeDis  (None, None, 20, 20, 64)  1216     \n",
      " tributed)                                                       \n",
      "                                                                 \n",
      " spiking_activation_8 (Spiki  (None, None, 20, 20, 64)  0        \n",
      " ngActivation)                                                   \n",
      "                                                                 \n",
      " time_distributed_9 (TimeDis  (None, None, 18, 18, 256  147712   \n",
      " tributed)                   )                                   \n",
      "                                                                 \n",
      " spiking_activation_9 (Spiki  (None, None, 18, 18, 256  0        \n",
      " ngActivation)               )                                   \n",
      "                                                                 \n",
      " time_distributed_10 (TimeDi  (None, None, 16, 16, 512  1180160  \n",
      " stributed)                  )                                   \n",
      "                                                                 \n",
      " spiking_activation_10 (Spik  (None, None, 16, 16, 512  0        \n",
      " ingActivation)              )                                   \n",
      "                                                                 \n",
      " time_distributed_11 (TimeDi  (None, None, 131072)     0         \n",
      " stributed)                                                      \n",
      "                                                                 \n",
      " dense_4 (Dense)             (None, None, 256)         33554688  \n",
      "                                                                 \n",
      " spiking_activation_11 (Spik  (None, None, 256)        0         \n",
      " ingActivation)                                                  \n",
      "                                                                 \n",
      " dense_5 (Dense)             (None, None, 10)          2570      \n",
      "                                                                 \n",
      "=================================================================\n",
      "Total params: 34,886,446\n",
      "Trainable params: 34,886,446\n",
      "Non-trainable params: 0\n",
      "_________________________________________________________________\n"
     ]
    }
   ],
   "source": [
    "inp = x = tf.keras.Input((None, 28, 28, 1))\n",
    "x = tf.keras.layers.TimeDistributed(\n",
    "    tf.keras.layers.Conv2D(filters=2, kernel_size=(7, 7))\n",
    ")(x)\n",
    "x = keras_spiking.SpikingActivation(\"relu\")(x)\n",
    "x = tf.keras.layers.TimeDistributed(\n",
    "    tf.keras.layers.Conv2D(filters=64, kernel_size=(3, 3))\n",
    ")(x)\n",
    "x = keras_spiking.SpikingActivation(\"relu\")(x)\n",
    "x = tf.keras.layers.TimeDistributed(\n",
    "    tf.keras.layers.Conv2D(filters=256, kernel_size=(3, 3))\n",
    ")(x)\n",
    "x = keras_spiking.SpikingActivation(\"relu\")(x)\n",
    "x = tf.keras.layers.TimeDistributed(\n",
    "    tf.keras.layers.Conv2D(filters=512, kernel_size=(3, 3))\n",
    ")(x)\n",
    "x = keras_spiking.SpikingActivation(\"relu\")(x)\n",
    "\n",
    "x = tf.keras.layers.TimeDistributed(tf.keras.layers.Flatten())(x)\n",
    "# x = tf.keras.layers.Dense(units=128)(x)\n",
    "# x = keras_spiking.SpikingActivation(\"relu\")(x)\n",
    "x = tf.keras.layers.Dense(units=256)(x)\n",
    "x = keras_spiking.SpikingActivation(\"relu\")(x)\n",
    "x = tf.keras.layers.Dense(units=10)(x)\n",
    "\n",
    "model = tf.keras.Model(inp, x)\n",
    "model.summary()"
   ]
  },
  {
   "cell_type": "code",
   "execution_count": 7,
   "id": "bdbabf2d-ee2c-4b84-86c8-ee760251743b",
   "metadata": {},
   "outputs": [
    {
     "name": "stdout",
     "output_type": "stream",
     "text": [
      "1/1 [==============================] - 3s 3s/step\n",
      "Layer (type)                          |Rate [Hz]|J/inf (cpu)|J/inf (arm)|J/inf (gpu)|J/inf (loihi)\n",
      "--------------------------------------|---------|-----------|-----------|-----------|-------------\n",
      "input_3 (InputLayer)                  |        1|          0|          0|          0|            0\n",
      "time_distributed_7 (TimeDistributed)  |        1|    0.00041|    4.3e-05|    1.4e-05|      1.3e-07\n",
      "spiking_activation_7 (SpikingActivatio|     0.41|    8.3e-06|    8.7e-07|    2.9e-07|      7.8e-06\n",
      "time_distributed_8 (TimeDistributed)  |     0.39|      0.004|    0.00041|    0.00014|      4.9e-07\n",
      "spiking_activation_8 (SpikingActivatio|     0.37|    0.00022|    2.3e-05|    7.7e-06|      0.00021\n",
      "time_distributed_9 (TimeDistributed)  |     0.18|       0.41|      0.043|      0.014|      2.3e-05\n",
      "spiking_activation_9 (SpikingActivatio|     0.91|    0.00071|    7.5e-05|    2.5e-05|      0.00067\n",
      "time_distributed_10 (TimeDistributed) |     0.46|        2.6|       0.27|      0.091|      0.00037\n",
      "spiking_activation_10 (SpikingActivati|      2.5|     0.0011|    0.00012|    3.9e-05|       0.0011\n",
      "time_distributed_11 (TimeDistributed) |      1.3|          0|          0|          0|            0\n",
      "dense_4 (Dense)                       |      1.3|       0.29|       0.03|       0.01|      0.00011\n",
      "spiking_activation_11 (SpikingActivati|       21|    2.2e-06|    2.3e-07|    7.7e-08|      2.1e-06\n",
      "dense_5 (Dense)                       |       11|    2.2e-05|    2.3e-06|    7.7e-07|      7.3e-08\n",
      "==================================================================================================\n",
      "Total energy per inference [Joules/inf] (cpu): 3.30e+00\n",
      "Total energy per inference [Joules/inf] (arm): 3.46e-01\n",
      "Total energy per inference [Joules/inf] (gpu): 1.15e-01\n",
      "Total energy per inference [Joules/inf] (loihi): 2.46e-03\n",
      "* These are estimates only; see the documentation for a list of the assumptions being made.\n",
      "  https://bit.ly/3c3aKKH\n"
     ]
    }
   ],
   "source": [
    "energy = keras_spiking.ModelEnergy(model, example_data=np.ones((32, 32, 28, 28, 1)))\n",
    "energy.summary(\n",
    "    columns=(\n",
    "        \"name\",\n",
    "        \"rate\",\n",
    "        \"energy cpu\",\n",
    "        \"energy arm\",\n",
    "        \"energy gpu\",\n",
    "        \"energy loihi\",\n",
    "        # \"energy spinnaker\",\n",
    "        # \"energy spinnaker2\",\n",
    "    ),\n",
    "    timesteps_per_inference=100,\n",
    "    dt=0.001,\n",
    "    # print_warnings=False,\n",
    ")"
   ]
  }
 ],
 "metadata": {
  "kernelspec": {
   "display_name": "Python 3 (ipykernel)",
   "language": "python",
   "name": "python3"
  },
  "language_info": {
   "codemirror_mode": {
    "name": "ipython",
    "version": 3
   },
   "file_extension": ".py",
   "mimetype": "text/x-python",
   "name": "python",
   "nbconvert_exporter": "python",
   "pygments_lexer": "ipython3",
   "version": "3.8.5"
  }
 },
 "nbformat": 4,
 "nbformat_minor": 5
}
